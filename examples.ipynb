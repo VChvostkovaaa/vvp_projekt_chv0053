{
 "cells": [
  {
   "cell_type": "markdown",
   "metadata": {},
   "source": [
    "## 1. Import library a modulů\n",
    "V této buňce si musíme implementovat funkce z jednotlivých souborů **'mujbalik'**, které budeme používat"
   ]
  },
  {
   "cell_type": "code",
   "metadata": {},
   "source": [
    "from mujbalik.load_data import load_json_data, convert_json_to_csv\n",
    "from mujbalik.physics import compute_accelerations\n",
    "from mujbalik.simulation import run_simulation\n",
    "from mujbalik.visualization import create_animation\n",
    "from mujbalik.random_place import generate_random_scenario\n",
    "from mujbalik.experiments import run_timestep_experiment\n",
    "from mujbalik.current_position import current_positions\n",
    "from mujbalik.load_data import save_scenario_to_csv\n",
    "\n",
    "import pandas as pd\n",
    "import matplotlib.pyplot as plt"
   ],
   "outputs": [],
   "execution_count": null
  },
  {
   "cell_type": "code",
   "metadata": {},
   "source": [
    "# potřebujeme zvýšit limitu pro vykreslováné animací, aby se mam vešli všechny planety do okna\n",
    "novy_limit_v_MB = 100.0\n",
    "\n",
    "print(f\"Nastavuji nový limit pro vkládání animací v Matplotlibu na {novy_limit_v_MB} MB.\")\n",
    "plt.rcParams['animation.embed_limit'] = novy_limit_v_MB\n"
   ],
   "outputs": [],
   "execution_count": null
  },
  {
   "cell_type": "markdown",
   "metadata": {},
   "source": [
    "## 2. Načtení a konverze dat ze souboru .json\n",
    "Abychom mohli simulaci spustit, potřebujeme načíst počáteční hodnoty pro všechny planety:\n",
    "- jejich **pozice** (x, y souřadnice)\n",
    "- jejich **rychlost** (vx, vy složky)\n",
    "- jejich **hmotnosti**\n",
    "\n",
    "Data budeme načítat z **.json** souboru (k tomu slouží funkce **'load_json_data'**).\n",
    "\n",
    "Data nadále musíme připravit jako NumPy pole, protože to další funkce vyžadují."
   ]
  },
  {
   "cell_type": "code",
   "metadata": {},
   "source": [
    "# načteni dat ze .json souboru\n",
    "json_data = load_json_data(\"data/planets.json\")\n",
    "# převod dat .json -> .csv\n",
    "convert_json_to_csv(json_data, \"data/planets.csv\")"
   ],
   "outputs": [],
   "execution_count": null
  },
  {
   "cell_type": "markdown",
   "metadata": {},
   "source": [
    "## 3. Vykreslení aktuální polohy planet\n",
    "\n",
    "Použijeme funkci **'current_positions'**, která umí vykreslit aktuální polohy planet na grafu.\n",
    "\n",
    "Pro spuštění funkce potřebujeme data ze souboru **'planets.csv'** (který jsme si díky minulé funkci vytvořili)."
   ]
  },
  {
   "cell_type": "code",
   "metadata": {},
   "source": [
    "current_positions(\"data/planets.csv\")"
   ],
   "outputs": [],
   "execution_count": null
  },
  {
   "cell_type": "markdown",
   "metadata": {},
   "source": [
    "Připravíme si data pro výpočty gravitačního zrychlení a poté i pro simulace"
   ]
  },
  {
   "cell_type": "code",
   "metadata": {},
   "source": [
    "df = pd.read_csv(\"data/planets.csv\")\n",
    "positions = df[['position_x', 'position_y']].to_numpy()\n",
    "velocities = df[['velocity_x', 'velocity_y']].to_numpy()\n",
    "masses = df['mass'].to_numpy()\n",
    "names = df['name'].tolist()"
   ],
   "outputs": [],
   "execution_count": null
  },
  {
   "cell_type": "markdown",
   "metadata": {},
   "source": [
    "## 4. Výpočet gravitačního zrychlení\n",
    "Díky téhle funkci zjistíme, jak moc a kterým směrem se planety kvůli gravitaci pohybují rychleji.\n",
    "\n",
    "K výpočtu používáme **Newtonův gravitační zákon**. Každá dvojice planet se přitahuje silou, která závisí na jejich hmotnostech a vzdálenosti mezi nimi.\n",
    "\n",
    "Výsledek této funkce **'compute_accelerations'** pak použijeme při simulaci.\n",
    "\n",
    "Pokud chceme, můžeme si vytisknout výsledky gravitačního zrychlení pro kontrolu."
   ]
  },
  {
   "cell_type": "code",
   "metadata": {},
   "source": [
    "accelerations = compute_accelerations(positions, masses)\n",
    "\n",
    "print(\"Zrychlení:\\n\", accelerations)"
   ],
   "outputs": [],
   "execution_count": null
  },
  {
   "cell_type": "markdown",
   "metadata": {},
   "source": [
    "## 5. Hlavní simulace\n",
    "\n",
    "Tohle je hlavní část -> spuštění simulace pohybu planet.\n",
    "\n",
    "Tahle funkce dostane:\n",
    "- počáteční pozice planet (positions)\n",
    "- jejich počáteční rychlost (velocities)\n",
    "- hmotnost planet (masses)\n",
    "- délku simulačního kroku (dt)\n",
    "- kolik kroků máme udělat (number_of_steps)\n",
    "\n",
    "Na konci nám vrací **historii** pozic všech planet."
   ]
  },
  {
   "cell_type": "code",
   "metadata": {},
   "source": [
    "dt = 60 * 60 * 24  # 1 den v sekundách\n",
    "numbers_of_steps = 365   # počet kroků simulace (rok = 365 dní)\n",
    "\n",
    "history = run_simulation(positions, velocities, masses, dt, numbers_of_steps)"
   ],
   "outputs": [],
   "execution_count": null
  },
  {
   "cell_type": "markdown",
   "metadata": {},
   "source": [
    "## 6. Animace\n",
    "\n",
    "Když máme spočítanou celou historii pozic planet (z předchozí funkce), můžeme pomocí ní vytvořit animaci.\n",
    "\n",
    "Pomocí historie můžeme vykreslit, jak se planety hýbou v čase a zároveň jejich trajektorie.\n",
    "\n",
    "Animaci můžeme buď:\n",
    "- ukázat rovnou v notebooku\n",
    "- uložit si ji jako soubor (např. .gif)"
   ]
  },
  {
   "cell_type": "code",
   "metadata": {},
   "source": [
    "create_animation(history, names)"
   ],
   "outputs": [],
   "execution_count": null
  },
  {
   "cell_type": "markdown",
   "metadata": {},
   "source": [
    "Pokud si chceme uložit animaci do jako **.git** soubor, musím přidat **\"save_path = \"nazev_souboru.git\"\"**"
   ]
  },
  {
   "cell_type": "code",
   "metadata": {},
   "source": [
    "create_animation(history, names, save_path = \"planetary_simulation.gif\")"
   ],
   "outputs": [],
   "execution_count": null
  },
  {
   "cell_type": "markdown",
   "metadata": {},
   "source": [
    "## 6. Generování různých časových délek\n",
    "Funkce **'run_timestep_experiment'** vezme data planet z **.csv** souboru a počet kroků, který mu zadáme. Pak pro každý z testů spustí simulaci a vykreslí trajektorie.\n",
    "\n",
    "Vyzkoušet různé délky časového kroku (např. hodina, den, týden, ...).\n",
    "\n",
    "**POZOR:**\n",
    "- když je **'dt'** moc velké (více jak jeden měsíc), výpočet nemusí být přesný a simulace se může začít chovat divně."
   ]
  },
  {
   "cell_type": "code",
   "metadata": {},
   "source": [
    "run_timestep_experiment('data/planets.csv', n_steps=365)"
   ],
   "outputs": [],
   "execution_count": null
  },
  {
   "cell_type": "markdown",
   "metadata": {},
   "source": [
    "## 7. Generování náhodných scénářů\n",
    "\n",
    "Tato funkce generuje náhodné scénáře pro simulaci, která bude náhodně generovat počáteční podmínky planet (polohy, rychlosti a hmotnosti)."
   ]
  },
  {
   "cell_type": "code",
   "metadata": {},
   "source": [
    "# rozmení pro generování náhodného scénáře\n",
    "number_of_bodies = 4  # počet planet\n",
    "position_range = (-1e12, 1e12)  # pozice v osách x a y\n",
    "velocity_range = (-1e4, 1e4)  # rychlost v osách x a y\n",
    "mass_range = (1e20, 1e25)  # hmotnost planet\n",
    "\n",
    "# vytvoření náhodného scénáře\n",
    "names_gen, positions_gen, velocities_gen, masses_gen = generate_random_scenario(number_of_bodies,\n",
    "                                                                                position_range,\n",
    "                                                                                velocity_range,\n",
    "                                                                                mass_range)\n",
    "\n",
    "print(\"Názvy těles: \\n\", names_gen)\n",
    "print(\"---------------------------------------------\")\n",
    "print(\"Počáteční pozice planet:\\n\", positions_gen)\n",
    "print(\"---------------------------------------------\")\n",
    "print(\"Počáteční rychlost planet:\\n\", velocities_gen)\n",
    "print(\"---------------------------------------------\")\n",
    "print(\"Počáteční hmotnost planet:\\n\", masses_gen)\n",
    "print(\"---------------------------------------------\")\n"
   ],
   "outputs": [],
   "execution_count": null
  },
  {
   "cell_type": "markdown",
   "metadata": {},
   "source": [
    "S nově vygenerovanými daty budeme pracovat dále.\n",
    "\n",
    "Můžeme znovu projet všechny funkce, které jsme vytvořili, a zjistit, jestli fungují i s jinými daty.\n",
    "\n",
    "Nyní znovu zavoláme všechny funkce:\n",
    "- uložení vygenerovaných dat do CSV souboru\n",
    "- načtení uložených dat a zobrazení aktuálních pozic\n",
    "- načtení dat ze souboru do proměnných pro další výpočty\n",
    "- výpočet zrychlení způsobeného gravitační interakcí mezi planetami\n",
    "- spuštění simulace pohybu planet\n",
    "- vytvoření animace z průběhu simulace"
   ]
  },
  {
   "cell_type": "code",
   "metadata": {},
   "source": [
    "save_scenario_to_csv(names_gen, positions_gen, velocities_gen, masses_gen, filename = \"data/planety_scenar.csv\")"
   ],
   "outputs": [],
   "execution_count": null
  },
  {
   "cell_type": "code",
   "metadata": {},
   "source": [
    "current_positions(\"data/planety_scenar.csv\")"
   ],
   "outputs": [],
   "execution_count": null
  },
  {
   "cell_type": "code",
   "metadata": {},
   "source": [
    "df = pd.read_csv(\"data/planety_scenar.csv\")\n",
    "positions = df[['position_x', 'position_y']].to_numpy()\n",
    "velocities = df[['velocity_x', 'velocity_y']].to_numpy()\n",
    "masses = df['mass'].to_numpy()\n",
    "names = df['name'].tolist()"
   ],
   "outputs": [],
   "execution_count": null
  },
  {
   "cell_type": "code",
   "metadata": {},
   "source": [
    "accelerations = compute_accelerations(positions, masses)\n",
    "print(\"Zrychlení:\\n\", accelerations)"
   ],
   "outputs": [],
   "execution_count": null
  },
  {
   "cell_type": "code",
   "metadata": {},
   "source": [
    "# parametry simulace\n",
    "dt = 60 * 60 * 24  # 1 den v sekundách\n",
    "numbers_of_steps = 1000  # počet kroků simulace (rok = 365 dní)\n",
    "\n",
    "history = run_simulation(positions, velocities, masses, dt, numbers_of_steps)"
   ],
   "outputs": [],
   "execution_count": null
  },
  {
   "cell_type": "code",
   "metadata": {},
   "source": [
    "create_animation(history, names)"
   ],
   "outputs": [],
   "execution_count": null
  },
  {
   "cell_type": "code",
   "metadata": {},
   "source": [
    "run_timestep_experiment('data/planety_scenar.csv', n_steps=365)"
   ],
   "outputs": [],
   "execution_count": null
  }
 ],
 "metadata": {
  "kernelspec": {
   "display_name": "Python 3",
   "language": "python",
   "name": "python3"
  },
  "language_info": {
   "codemirror_mode": {
    "name": "ipython",
    "version": 3
   },
   "file_extension": ".py",
   "mimetype": "text/x-python",
   "name": "python",
   "nbconvert_exporter": "python",
   "pygments_lexer": "ipython3",
   "version": "3.9.6"
  }
 },
 "nbformat": 4,
 "nbformat_minor": 2
}
